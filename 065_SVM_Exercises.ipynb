{
 "cells": [
  {
   "cell_type": "markdown",
   "metadata": {},
   "source": [
    "# Exercises\n",
    "\n",
    "In this section we have two exercises:\n",
    "1. Implement the polynomial kernel.\n",
    "2. Implement the multiclass C-SVM."
   ]
  },
  {
   "cell_type": "markdown",
   "metadata": {},
   "source": [
    "## Polynomial kernel\n",
    "\n",
    "You need to extend the ``build_kernel`` function and implement the polynomial kernel if the ``kernel_type`` is set to 'poly'. The equation that needs to be implemented:\n",
    "\\begin{equation}\n",
    "K=(X^{T}*Y)^{d}.\n",
    "\\end{equation}"
   ]
  },
  {
   "cell_type": "code",
   "execution_count": 257,
   "metadata": {},
   "outputs": [],
   "source": [
    "# Import necessary libraries\n",
    "import numpy as np\n",
    "import cvxopt\n",
    "from sklearn.metrics import accuracy_score\n",
    "from sklearn.datasets import load_iris\n",
    "\n",
    "cvxopt.solvers.options['show_progress'] = True"
   ]
  },
  {
   "cell_type": "code",
   "execution_count": 258,
   "metadata": {},
   "outputs": [],
   "source": [
    "def build_kernel(data_set,\n",
    "                 kernel_type='linear',\n",
    "                 gamma=1.0,\n",
    "                 coef0=1.0,\n",
    "                 degree=2):\n",
    "    kernel = np.dot(data_set, data_set.T)\n",
    "    if kernel_type == 'rbf':\n",
    "        sigma = 1.0\n",
    "        n = len(data_set)\n",
    "        ones = np.ones((n, 1))\n",
    "        kernel -= 0.5 * (np.dot(np.diag(kernel).reshape(-1, 1), ones.T) +\n",
    "                         np.dot(ones, np.diag(kernel).reshape(1, -1)))\n",
    "        kernel = np.exp(kernel / (2.0 * sigma ** 2))\n",
    "    elif kernel_type == 'poly':\n",
    "        kernel = (gamma * kernel + coef0) ** degree\n",
    "    return kernel"
   ]
  },
  {
   "cell_type": "markdown",
   "metadata": {},
   "source": [
    "## Implement a multiclass C-SVM\n",
    "\n",
    "Use the classification method that we used in notebook 7.3 and IRIS dataset to build a multiclass C-SVM classifier. Most implementation is about a function that will return the proper data set that need to be used for the prediction. You need to implement:\n",
    "- ``choose_set_for_label``\n",
    "- ``get_labels_count``"
   ]
  },
  {
   "cell_type": "code",
   "execution_count": 259,
   "metadata": {},
   "outputs": [],
   "source": [
    "def choose_set_for_label(data_set, labels, classes,\n",
    "                         train_ratio=0.7, random_state=None):\n",
    "    idx = np.where(np.isin(labels, classes))[0]\n",
    "    X = data_set[idx]\n",
    "    y = np.where(labels[idx] == classes[0], -1, 1)\n",
    "    if random_state is not None:\n",
    "        rng = np.random.default_rng(random_state)\n",
    "        shuffle = rng.permutation(len(X))\n",
    "        X, y = X[shuffle], y[shuffle]\n",
    "    split = int(np.ceil(train_ratio * len(X)))\n",
    "    return X[:split], X[split:], y[:split], y[split:]"
   ]
  },
  {
   "cell_type": "code",
   "execution_count": 260,
   "metadata": {},
   "outputs": [],
   "source": [
    "def get_labels_count(data_set):\n",
    "    return len(data_set)"
   ]
  },
  {
   "cell_type": "markdown",
   "metadata": {},
   "source": [
    "Use the code that we have implemented earlier:"
   ]
  },
  {
   "cell_type": "code",
   "execution_count": 261,
   "metadata": {},
   "outputs": [],
   "source": [
    "def train(train_data_set, train_labels, kernel_type='linear', C=10.0, threshold=1e-5):\n",
    "    kernel = build_kernel(train_data_set, kernel_type=kernel_type)\n",
    "    objects_count = train_data_set.shape[0]\n",
    "\n",
    "    P = train_labels @ train_labels.T * kernel\n",
    "    q = -np.ones((objects_count, 1))\n",
    "    G = np.vstack((np.eye(objects_count), -np.eye(objects_count)))\n",
    "    h = np.vstack((C * np.ones((objects_count, 1)), np.zeros((objects_count, 1))))\n",
    "    A = train_labels.reshape(1, objects_count).astype(float)\n",
    "    b_scalar = 0.0\n",
    "\n",
    "    sol = cvxopt.solvers.qp(\n",
    "        cvxopt.matrix(P),\n",
    "        cvxopt.matrix(q),\n",
    "        cvxopt.matrix(G),\n",
    "        cvxopt.matrix(h),\n",
    "        cvxopt.matrix(A),\n",
    "        cvxopt.matrix(b_scalar)\n",
    "    )\n",
    "\n",
    "    alphas_full = np.array(sol['x']).ravel()\n",
    "    support_vectors_id = np.where(alphas_full > threshold)[0]\n",
    "    vector_number = support_vectors_id.size\n",
    "    support_vectors = train_data_set[support_vectors_id, :]\n",
    "\n",
    "    lambdas = alphas_full[support_vectors_id]\n",
    "    targets = train_labels[support_vectors_id]\n",
    "\n",
    "    b = np.sum(targets)\n",
    "    for idx in support_vectors_id:\n",
    "        K_row = kernel[idx, support_vectors_id].reshape(vector_number, 1)\n",
    "        b -= np.sum(lambdas * targets * K_row)\n",
    "    b /= vector_number\n",
    "\n",
    "    return lambdas, support_vectors, support_vectors_id, b, targets, vector_number\n",
    "\n",
    "def build_kernel(data_set, kernel_type='linear'):\n",
    "    K = data_set @ data_set.T\n",
    "    if kernel_type == 'rbf':\n",
    "        sigma = 1.0\n",
    "        n = data_set.shape[0]\n",
    "        ones = np.ones((n, 1))\n",
    "        diag_K = np.diag(K).reshape(-1, 1)\n",
    "        K -= 0.5 * (diag_K @ ones.T + ones @ diag_K.T)\n",
    "        K = np.exp(K / (2.0 * sigma**2))\n",
    "    return K\n",
    "\n",
    "def classify_rbf(test_data_set, train_data_set, lambdas, targets, b, vector_number, support_vectors, support_vectors_id):\n",
    "    sigma = 1.0\n",
    "    K_test = test_data_set @ support_vectors.T\n",
    "    x_norm = np.sum(test_data_set**2, axis=1)[:, None]\n",
    "    z_norm = np.sum(train_data_set @ train_data_set.T, axis=1)[support_vectors_id][None, :]\n",
    "    D2 = x_norm + z_norm - 2 * K_test\n",
    "    K_rbf = np.exp(-D2 / (2.0 * sigma**2))\n",
    "    scores = K_rbf @ (lambdas * targets) + b\n",
    "    return np.sign(scores)\n"
   ]
  },
  {
   "cell_type": "code",
   "execution_count": 262,
   "metadata": {},
   "outputs": [
    {
     "name": "stdout",
     "output_type": "stream",
     "text": [
      "     pcost       dcost       gap    pres   dres\n",
      " 0:  2.1410e+00 -8.0567e+02  2e+03  2e-01  5e-15\n",
      " 1:  2.0926e+00 -2.7880e+01  5e+01  3e-03  5e-15\n",
      " 2:  1.0277e+00 -1.6007e+00  3e+00  4e-05  4e-15\n",
      " 3:  1.1338e-01 -2.5927e-01  4e-01  2e-16  3e-15\n",
      " 4: -6.8369e-03 -5.7729e-02  5e-02  2e-16  1e-15\n",
      " 5: -1.7559e-02 -2.3830e-02  6e-03  2e-16  4e-16\n",
      " 6: -1.9467e-02 -2.1359e-02  2e-03  2e-16  3e-16\n",
      " 7: -2.0121e-02 -2.0618e-02  5e-04  2e-16  2e-16\n",
      " 8: -2.0365e-02 -2.0401e-02  4e-05  2e-16  2e-16\n",
      " 9: -2.0379e-02 -2.0380e-02  1e-06  2e-16  2e-16\n",
      "10: -2.0380e-02 -2.0380e-02  1e-08  2e-16  2e-16\n",
      "Optimal solution found.\n",
      "0.7\n"
     ]
    }
   ],
   "source": [
    "iris = load_iris()\n",
    "data_set = iris.data\n",
    "labels = iris.target\n",
    "\n",
    "data_set = data_set[labels!=2]\n",
    "labels = labels[labels!=2]\n",
    "\n",
    "train_data_set, test_data_set, train_labels, test_labels = choose_set_for_label(data_set, labels, (0,1), train_ratio=0.7, random_state=4)  \n",
    "objects_count = get_labels_count(train_labels)\n",
    "    \n",
    "lambdas, support_vectors, support_vectors_id, b, targets, vector_number = train(train_data_set, train_labels, kernel_type='rbf')\n",
    "predicted = classify_rbf(test_data_set, train_data_set, lambdas, targets, b, vector_number, support_vectors, support_vectors_id)\n",
    "predicted = list(predicted.astype(int))\n",
    "\n",
    "print(accuracy_score(predicted, test_labels))"
   ]
  }
 ],
 "metadata": {
  "kernelspec": {
   "display_name": "3.13.2",
   "language": "python",
   "name": "python3"
  },
  "language_info": {
   "codemirror_mode": {
    "name": "ipython",
    "version": 3
   },
   "file_extension": ".py",
   "mimetype": "text/x-python",
   "name": "python",
   "nbconvert_exporter": "python",
   "pygments_lexer": "ipython3",
   "version": "3.13.2"
  }
 },
 "nbformat": 4,
 "nbformat_minor": 4
}
