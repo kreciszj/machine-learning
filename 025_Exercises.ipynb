{
 "cells": [
  {
   "cell_type": "markdown",
   "metadata": {},
   "source": [
    "# Exercises\n",
    "\n",
    "There are three exercises in this notebook:\n",
    "\n",
    "1. Use the cross-validation method to test the linear regression with different $\\alpha$ values, at least three.\n",
    "2. Implement a SGD method that will train the Lasso regression for 10 epochs.\n",
    "3. Extend the Fisher's classifier to work with two features. Use the class as the $y$."
   ]
  },
  {
   "cell_type": "markdown",
   "metadata": {},
   "source": [
    "## 1. Cross-validation linear regression\n",
    "\n",
    "You need to change the variable ``alpha`` to be a list of alphas. Next do a loop and finally compare the results."
   ]
  },
  {
   "cell_type": "code",
   "execution_count": 56,
   "metadata": {},
   "outputs": [
    {
     "name": "stdout",
     "output_type": "stream",
     "text": [
      "alpha = 1.000 | Weights (analytical): [-20.59044706   0.71048616] | Weights (sklearn): [-20.59044706   0.71048616] | MSE: 592.464\n",
      "alpha = 0.100 | Weights (analytical): [-101.72397081    1.16978757] | Weights (sklearn): [-101.72397081    1.16978757] | MSE: 426.045\n",
      "alpha = 0.010 | Weights (analytical): [-167.85534019    1.54416013] | Weights (sklearn): [-167.85534019    1.54416013] | MSE: 373.794\n",
      "alpha = 0.001 | Weights (analytical): [-179.52628555    1.61022985] | Weights (sklearn): [-179.52628555    1.61022985] | MSE: 372.348\n"
     ]
    }
   ],
   "source": [
    "import numpy as np\n",
    "from sklearn.linear_model import Ridge\n",
    "\n",
    "x = np.array([188, 181, 197, 168, 167, 187, 178, 194, 140, 176, 168, 192, 173, 142, 176]).reshape(-1, 1)\n",
    "y = np.array([141, 106, 149, 59, 79, 136, 65, 136, 52, 87, 115, 140, 82, 69, 121]).reshape(-1, 1)\n",
    "x = np.c_[np.ones((15, 1)), x]\n",
    "I = np.identity(2)\n",
    "alphas = [1.0, 0.1, 0.01, 0.001]\n",
    "\n",
    "for alpha in alphas:\n",
    "    w = np.linalg.inv(x.T @ x + alpha * I) @ x.T @ y\n",
    "    w = np.ravel(w)\n",
    "    y_pred = x @ w.reshape(-1, 1)\n",
    "    mse = ((y_pred - y) ** 2).mean()\n",
    "    ridge_model = Ridge(alpha=alpha, fit_intercept=False)\n",
    "    ridge_model.fit(x, y)\n",
    "    ridge_w = ridge_model.coef_.ravel()\n",
    "    print(f\"alpha = {alpha:.3f} | Weights (analytical): {w} | Weights (sklearn): {ridge_w} | MSE: {mse:.3f}\")"
   ]
  },
  {
   "cell_type": "markdown",
   "metadata": {},
   "source": [
    "## 2. Implement based on the Ridge regression example, the Lasso regression.\n",
    "\n",
    "Please implement the SGD method and compare the results with the sklearn Lasso regression results. "
   ]
  },
  {
   "cell_type": "code",
   "execution_count": 57,
   "metadata": {},
   "outputs": [],
   "source": [
    "def sgd(x, y, alpha, epochs):\n",
    "    weights = np.ones(x.shape[1])\n",
    "    bias = 1\n",
    "\n",
    "    for _ in range(epochs):\n",
    "        delta = y - (x * weights + bias)\n",
    "        gradient_weights = -2 * sum(x * delta) / (np.linalg.norm(x) ** 2)\n",
    "        gradient_bias = -(2 / y.size) * sum(delta)\n",
    "        weights -= (alpha * gradient_weights)\n",
    "        bias -= (alpha * gradient_bias)\n",
    "\n",
    "    return bias, weights"
   ]
  },
  {
   "cell_type": "code",
   "execution_count": 58,
   "metadata": {},
   "outputs": [
    {
     "name": "stdout",
     "output_type": "stream",
     "text": [
      "Lasso: [-180.85790859980537] [1.6177649901016675]\n",
      "SGD: [-180.89686576] [1.6179881]\n"
     ]
    }
   ],
   "source": [
    "from sklearn.linear_model import Lasso\n",
    "\n",
    "x = np.array([188, 181, 197, 168, 167, 187, 178, 194, 140, 176, 168, 192, 173, 142, 176]).reshape(-1, 1).reshape(15, 1)\n",
    "y = np.array([141, 106, 149, 59, 79, 136, 65, 136, 52, 87, 115, 140, 82, 69, 121]).reshape(-1, 1).reshape(15, 1)\n",
    "\n",
    "lasso_regression = Lasso(alpha=0.1)\n",
    "lasso_regression.fit(X=x, y=y)\n",
    "lasso_bias, lasso_weights= lasso_regression.intercept_[0], lasso_regression.coef_[0]\n",
    "print(f\"Lasso: [{lasso_bias}] [{lasso_weights}]\")\n",
    "\n",
    "sgd_bias, sgd_weights = sgd(x, y, 0.1, 10000)\n",
    "print(f\"SGD: {sgd_bias} {sgd_weights}\")"
   ]
  },
  {
   "cell_type": "markdown",
   "metadata": {},
   "source": [
    "## 3. Extend the Fisher's classifier\n",
    "\n",
    "Please extend the targets of the ``iris_data`` variable and use it as the $y$."
   ]
  },
  {
   "cell_type": "code",
   "execution_count": 59,
   "metadata": {},
   "outputs": [
    {
     "data": {
      "text/html": [
       "<div>\n",
       "<style scoped>\n",
       "    .dataframe tbody tr th:only-of-type {\n",
       "        vertical-align: middle;\n",
       "    }\n",
       "\n",
       "    .dataframe tbody tr th {\n",
       "        vertical-align: top;\n",
       "    }\n",
       "\n",
       "    .dataframe thead th {\n",
       "        text-align: right;\n",
       "    }\n",
       "</style>\n",
       "<table border=\"1\" class=\"dataframe\">\n",
       "  <thead>\n",
       "    <tr style=\"text-align: right;\">\n",
       "      <th></th>\n",
       "      <th>0</th>\n",
       "      <th>1</th>\n",
       "      <th>2</th>\n",
       "      <th>3</th>\n",
       "    </tr>\n",
       "  </thead>\n",
       "  <tbody>\n",
       "    <tr>\n",
       "      <th>0</th>\n",
       "      <td>1.244804</td>\n",
       "      <td>1.005314</td>\n",
       "      <td>0.690983</td>\n",
       "      <td>0.511365</td>\n",
       "    </tr>\n",
       "    <tr>\n",
       "      <th>1</th>\n",
       "      <td>1.214867</td>\n",
       "      <td>0.930473</td>\n",
       "      <td>0.690983</td>\n",
       "      <td>0.511365</td>\n",
       "    </tr>\n",
       "    <tr>\n",
       "      <th>2</th>\n",
       "      <td>1.184931</td>\n",
       "      <td>0.960409</td>\n",
       "      <td>0.676015</td>\n",
       "      <td>0.511365</td>\n",
       "    </tr>\n",
       "    <tr>\n",
       "      <th>3</th>\n",
       "      <td>1.169963</td>\n",
       "      <td>0.945441</td>\n",
       "      <td>0.705951</td>\n",
       "      <td>0.511365</td>\n",
       "    </tr>\n",
       "    <tr>\n",
       "      <th>4</th>\n",
       "      <td>1.229836</td>\n",
       "      <td>1.020282</td>\n",
       "      <td>0.690983</td>\n",
       "      <td>0.511365</td>\n",
       "    </tr>\n",
       "    <tr>\n",
       "      <th>...</th>\n",
       "      <td>...</td>\n",
       "      <td>...</td>\n",
       "      <td>...</td>\n",
       "      <td>...</td>\n",
       "    </tr>\n",
       "    <tr>\n",
       "      <th>145</th>\n",
       "      <td>1.484294</td>\n",
       "      <td>0.930473</td>\n",
       "      <td>1.259772</td>\n",
       "      <td>0.825696</td>\n",
       "    </tr>\n",
       "    <tr>\n",
       "      <th>146</th>\n",
       "      <td>1.424421</td>\n",
       "      <td>0.855632</td>\n",
       "      <td>1.229836</td>\n",
       "      <td>0.765824</td>\n",
       "    </tr>\n",
       "    <tr>\n",
       "      <th>147</th>\n",
       "      <td>1.454357</td>\n",
       "      <td>0.930473</td>\n",
       "      <td>1.259772</td>\n",
       "      <td>0.780792</td>\n",
       "    </tr>\n",
       "    <tr>\n",
       "      <th>148</th>\n",
       "      <td>1.409453</td>\n",
       "      <td>0.990346</td>\n",
       "      <td>1.289708</td>\n",
       "      <td>0.825696</td>\n",
       "    </tr>\n",
       "    <tr>\n",
       "      <th>149</th>\n",
       "      <td>1.364549</td>\n",
       "      <td>0.930473</td>\n",
       "      <td>1.244804</td>\n",
       "      <td>0.750856</td>\n",
       "    </tr>\n",
       "  </tbody>\n",
       "</table>\n",
       "<p>150 rows × 4 columns</p>\n",
       "</div>"
      ],
      "text/plain": [
       "            0         1         2         3\n",
       "0    1.244804  1.005314  0.690983  0.511365\n",
       "1    1.214867  0.930473  0.690983  0.511365\n",
       "2    1.184931  0.960409  0.676015  0.511365\n",
       "3    1.169963  0.945441  0.705951  0.511365\n",
       "4    1.229836  1.020282  0.690983  0.511365\n",
       "..        ...       ...       ...       ...\n",
       "145  1.484294  0.930473  1.259772  0.825696\n",
       "146  1.424421  0.855632  1.229836  0.765824\n",
       "147  1.454357  0.930473  1.259772  0.780792\n",
       "148  1.409453  0.990346  1.289708  0.825696\n",
       "149  1.364549  0.930473  1.244804  0.750856\n",
       "\n",
       "[150 rows x 4 columns]"
      ]
     },
     "execution_count": 59,
     "metadata": {},
     "output_type": "execute_result"
    }
   ],
   "source": [
    "import pandas as pd\n",
    "import numpy as np\n",
    "import matplotlib.pyplot as plt\n",
    "from sklearn.datasets import load_iris\n",
    "\n",
    "iris = load_iris()\n",
    "df_iris = pd.DataFrame(iris.data, columns=iris.feature_names)\n",
    "df_iris['target'] = iris.target\n",
    "independent_vars = ['sepal length (cm)', 'sepal width (cm)', 'petal length (cm)', 'petal width (cm)']\n",
    "dependent_var = 'target'\n",
    "X_vals = df_iris[independent_vars].values\n",
    "Y_vals = df_iris[dependent_var].values.reshape(-1, 1)\n",
    "total_elements = X_vals.size\n",
    "mean_X = np.mean(X_vals)\n",
    "mean_Y = np.mean(Y_vals)\n",
    "sum_xy = np.sum(X_vals * Y_vals)\n",
    "sum_xx = np.sum(X_vals * X_vals)\n",
    "SS_xy_alt = sum_xy - total_elements * mean_X * mean_Y\n",
    "SS_xx_alt = sum_xx - total_elements * mean_X * mean_X\n",
    "slope_alt = SS_xy_alt / SS_xx_alt\n",
    "intercept_alt = mean_Y - slope_alt * mean_X\n",
    "Y_pred_alt = slope_alt * X_vals + intercept_alt\n",
    "df_predictions = pd.DataFrame(Y_pred_alt)\n",
    "df_predictions"
   ]
  }
 ],
 "metadata": {
  "kernelspec": {
   "display_name": "3.13.2",
   "language": "python",
   "name": "python3"
  },
  "language_info": {
   "codemirror_mode": {
    "name": "ipython",
    "version": 3
   },
   "file_extension": ".py",
   "mimetype": "text/x-python",
   "name": "python",
   "nbconvert_exporter": "python",
   "pygments_lexer": "ipython3",
   "version": "3.13.2"
  }
 },
 "nbformat": 4,
 "nbformat_minor": 4
}
